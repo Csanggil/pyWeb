{
  "nbformat": 4,
  "nbformat_minor": 0,
  "metadata": {
    "colab": {
      "provenance": [],
      "authorship_tag": "ABX9TyMBbfApVxU4eG0NK06Po1p3",
      "include_colab_link": true
    },
    "kernelspec": {
      "name": "python3",
      "display_name": "Python 3"
    },
    "language_info": {
      "name": "python"
    }
  },
  "cells": [
    {
      "cell_type": "markdown",
      "metadata": {
        "id": "view-in-github",
        "colab_type": "text"
      },
      "source": [
        "<a href=\"https://colab.research.google.com/github/Csanggil/pyWeb/blob/main/IOT%EA%B8%B0%EB%A7%90.ipynb\" target=\"_parent\"><img src=\"https://colab.research.google.com/assets/colab-badge.svg\" alt=\"Open In Colab\"/></a>"
      ]
    },
    {
      "cell_type": "code",
      "execution_count": null,
      "metadata": {
        "id": "d8BSX7eiKSSO"
      },
      "outputs": [],
      "source": [
        "# 폰트설정 후 런타음 다시시작\n",
        "%matplotlib inline  \n",
        "\n",
        "import matplotlib as mpl \n",
        "import matplotlib.pyplot as plt \n",
        "import matplotlib.font_manager as fm  \n",
        "\n",
        "!apt-get update -qq\n",
        "!apt-get install fonts-nanum* -qq\n",
        "\n",
        "path = '/usr/share/fonts/truetype/nanum/NanumBarunGothic.ttf' \n",
        "font_name = fm.FontProperties(fname=path, size=10).get_name()\n",
        "print(font_name)\n",
        "plt.rc('font', family=font_name)\n",
        "\n",
        "fm._rebuild()\n",
        "mpl.rcParams['axes.unicode_minus'] = False"
      ]
    },
    {
      "cell_type": "code",
      "source": [
        "# 0. 설치\n",
        "!pip install --upgrade PublicDataReader"
      ],
      "metadata": {
        "id": "Dhx8d7XDKU6n"
      },
      "execution_count": null,
      "outputs": []
    },
    {
      "cell_type": "code",
      "source": [
        "# 1. 라이브러리 임포트하기\n",
        "import PublicDataReader as pdr\n",
        "print(pdr.__version__)"
      ],
      "metadata": {
        "id": "6Zvyd5GTKWQC"
      },
      "execution_count": null,
      "outputs": []
    },
    {
      "cell_type": "code",
      "source": [
        "# 2. 공공 데이터 포털 OpenAPI 서비스 인증키 입력하기\n",
        "serviceKey=\"Fh4TSxo04soUI6YDhN4kth6x9pvuZcJQXAdmOFtY3gIYOQe8P%2BL6kt4Oxx10XTqGJME%2B%2BulqBS6EJUOXlg8WhA%3D%3D\"\n",
        "# 3. 국토교통부 실거래가 정보 조회 OpenAPI 세션 정의하기\n",
        "# debug: True이면 모든 메시지 출력, False이면 오류 메시지만 출력 (기본값: False)\n",
        "ts = pdr.Transaction(serviceKey, debug=True)"
      ],
      "metadata": {
        "id": "3dAWlGZ0KYgU"
      },
      "execution_count": null,
      "outputs": []
    },
    {
      "cell_type": "code",
      "source": [
        "# 4. 지역코드(시군구코드) 검색하기\n",
        "sigunguName = \"\"  #시군구 입력                                 \n",
        "code = pdr.code_bdong()\n",
        "code.loc[(code['시군구명'].str.contains(sigunguName, na=False)) &\n",
        "         (code['읍면동명'].isna())]"
      ],
      "metadata": {
        "id": "KI17h9iGKY_1"
      },
      "execution_count": null,
      "outputs": []
    },
    {
      "cell_type": "code",
      "source": [
        "# 5. 지역, 기간 별 데이터 프레임 만들기\n",
        "prod=\"아파트\"                                           # 아파트\n",
        "trans=\"매매\"                                            # 매매\n",
        "sigunguCode=\"\"                                    # 시군구코드\n",
        "startYearMonth=\"\"                                 # 시작기간yyyymm\n",
        "endYearMonth=\"\"                                   # 끝기간yyyymm\n",
        "\n",
        "df = ts.collect_data(prod, trans, sigunguCode, startYearMonth, endYearMonth)\n",
        "df.head()"
      ],
      "metadata": {
        "id": "HzrFRkN_KfmG"
      },
      "execution_count": null,
      "outputs": []
    },
    {
      "cell_type": "code",
      "source": [
        "#6. 파일로 저장\n",
        "df.to_excel('OO지역 아파트 매매현황.xlsx')  # 저장할 이름"
      ],
      "metadata": {
        "id": "RrDsG5zWKk0A"
      },
      "execution_count": null,
      "outputs": []
    },
    {
      "cell_type": "code",
      "source": [
        "!pip show plotnine\n",
        "!pip show missingno\n",
        "import warnings\n",
        "warnings.filterwarnings('ignore')\n",
        "import pandas as pd\n",
        "import numpy as np\n",
        "import re\n",
        "from plotnine import *\n",
        "import matplotlib as mpl \n",
        "import matplotlib.pyplot as plt \n",
        "import matplotlib.font_manager as fm  "
      ],
      "metadata": {
        "id": "o9TZPc1sKxlb"
      },
      "execution_count": null,
      "outputs": []
    },
    {
      "cell_type": "code",
      "source": [
        "pre_sale = pd.read_excel('') #위에 저장한 파일 경로복사\n",
        "pre_sale.describe\n",
        "\n",
        "pre_sale.head()\n",
        "pre_sale.tail()"
      ],
      "metadata": {
        "id": "iVrx-UzRK0qV"
      },
      "execution_count": null,
      "outputs": []
    },
    {
      "cell_type": "code",
      "source": [
        "# 거래매물이 없을시\n",
        "pre_sale = pre_sale.loc[pre_sale['']=='']                # 선택하여 나타내기\n",
        "(ggplot(pre_sale)\n",
        " + aes(x='', y='')                                       # x,y축 나타낼것 입력 \n",
        " + ggtitle('')            # 그래프 타이틀 입력\n",
        " + geom_boxplot()                                        # 박스플롯 그래프표현\n",
        " + theme(text=element_text(family='NanumBarunGothic'))   # 폰트\n",
        " + theme(text=element_text(hjust=0.5, size=5))           # 전체 텍스트 크기 및 가운데정렬\n",
        " \n",
        ")\n"
      ],
      "metadata": {
        "id": "ppUGGSG-LAtp"
      },
      "execution_count": null,
      "outputs": []
    },
    {
      "cell_type": "code",
      "source": [
        "# 거래매물이 많을시\n",
        "pre_sale = pre_sale.loc[pre_sale['']=='']                                      # 선택하여 나타내기\n",
        "(ggplot(pre_sale)\n",
        " + aes(x='', y='')                                                             # x,y축 나타낼것 입력 \n",
        " + ggtitle('')                                                                 # 그래프 타이틀 입력\n",
        " + geom_boxplot()                                                              # 박스플롯 그래프표현\n",
        " + theme(text=element_text(family='NanumBarunGothic'),figure_size=(100, 10))   # family=폰트 / figure_size = 그래프크기 \n",
        " + theme(text=element_text(hjust=0.5, size=5))                                 # 전체 텍스트 크기 및 가운데정렬\n",
        " \n",
        ")\n"
      ],
      "metadata": {
        "id": "0Pek-bYYLtGp"
      },
      "execution_count": null,
      "outputs": []
    }
  ]
}
