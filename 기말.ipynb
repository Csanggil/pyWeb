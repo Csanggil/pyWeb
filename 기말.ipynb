{
  "nbformat": 4,
  "nbformat_minor": 0,
  "metadata": {
    "colab": {
      "provenance": [],
      "authorship_tag": "ABX9TyM+uJCjJzDF0r/va7xyiqPY",
      "include_colab_link": true
    },
    "kernelspec": {
      "name": "python3",
      "display_name": "Python 3"
    },
    "language_info": {
      "name": "python"
    }
  },
  "cells": [
    {
      "cell_type": "markdown",
      "metadata": {
        "id": "view-in-github",
        "colab_type": "text"
      },
      "source": [
        "<a href=\"https://colab.research.google.com/github/Csanggil/pyWeb/blob/main/%EA%B8%B0%EB%A7%90.ipynb\" target=\"_parent\"><img src=\"https://colab.research.google.com/assets/colab-badge.svg\" alt=\"Open In Colab\"/></a>"
      ]
    },
    {
      "cell_type": "code",
      "source": [
        "# 폰트설정 후 런타음 다시시작\n",
        "%matplotlib inline  \n",
        "\n",
        "import matplotlib as mpl \n",
        "import matplotlib.pyplot as plt \n",
        "import matplotlib.font_manager as fm  \n",
        "\n",
        "!apt-get update -qq\n",
        "!apt-get install fonts-nanum* -qq\n",
        "\n",
        "path = '/usr/share/fonts/truetype/nanum/NanumBarunGothic.ttf' \n",
        "font_name = fm.FontProperties(fname=path, size=10).get_name()\n",
        "print(font_name)\n",
        "plt.rc('font', family=font_name)\n",
        "\n",
        "fm._rebuild()\n",
        "mpl.rcParams['axes.unicode_minus'] = False"
      ],
      "metadata": {
        "colab": {
          "base_uri": "https://localhost:8080/"
        },
        "id": "6U24oolpSWLi",
        "outputId": "67778511-91f1-40b3-9892-bee34dcfdaba"
      },
      "execution_count": null,
      "outputs": [
        {
          "output_type": "stream",
          "name": "stdout",
          "text": [
            "NanumBarunGothic\n"
          ]
        }
      ]
    },
    {
      "cell_type": "code",
      "execution_count": null,
      "metadata": {
        "colab": {
          "base_uri": "https://localhost:8080/"
        },
        "id": "g6hgMpwTPzCS",
        "outputId": "d6dace70-19f2-4283-dfe7-5093fdf54458"
      },
      "outputs": [
        {
          "output_type": "stream",
          "name": "stdout",
          "text": [
            "Looking in indexes: https://pypi.org/simple, https://us-python.pkg.dev/colab-wheels/public/simple/\n",
            "Requirement already satisfied: PublicDataReader in /usr/local/lib/python3.8/dist-packages (1.0.5)\n",
            "Requirement already satisfied: beautifulsoup4 in /usr/local/lib/python3.8/dist-packages (from PublicDataReader) (4.6.3)\n",
            "Requirement already satisfied: xmltodict in /usr/local/lib/python3.8/dist-packages (from PublicDataReader) (0.13.0)\n",
            "Requirement already satisfied: pandas in /usr/local/lib/python3.8/dist-packages (from PublicDataReader) (1.3.5)\n",
            "Requirement already satisfied: requests in /usr/local/lib/python3.8/dist-packages (from PublicDataReader) (2.23.0)\n",
            "Requirement already satisfied: lxml in /usr/local/lib/python3.8/dist-packages (from PublicDataReader) (4.9.1)\n",
            "Requirement already satisfied: numpy in /usr/local/lib/python3.8/dist-packages (from PublicDataReader) (1.21.6)\n",
            "Requirement already satisfied: python-dateutil>=2.7.3 in /usr/local/lib/python3.8/dist-packages (from pandas->PublicDataReader) (2.8.2)\n",
            "Requirement already satisfied: pytz>=2017.3 in /usr/local/lib/python3.8/dist-packages (from pandas->PublicDataReader) (2022.6)\n",
            "Requirement already satisfied: six>=1.5 in /usr/local/lib/python3.8/dist-packages (from python-dateutil>=2.7.3->pandas->PublicDataReader) (1.15.0)\n",
            "Requirement already satisfied: urllib3!=1.25.0,!=1.25.1,<1.26,>=1.21.1 in /usr/local/lib/python3.8/dist-packages (from requests->PublicDataReader) (1.24.3)\n",
            "Requirement already satisfied: idna<3,>=2.5 in /usr/local/lib/python3.8/dist-packages (from requests->PublicDataReader) (2.10)\n",
            "Requirement already satisfied: chardet<4,>=3.0.2 in /usr/local/lib/python3.8/dist-packages (from requests->PublicDataReader) (3.0.4)\n",
            "Requirement already satisfied: certifi>=2017.4.17 in /usr/local/lib/python3.8/dist-packages (from requests->PublicDataReader) (2022.9.24)\n"
          ]
        }
      ],
      "source": [
        "# 0. 설치\n",
        "!pip install --upgrade PublicDataReader"
      ]
    },
    {
      "cell_type": "code",
      "source": [
        "# 1. 라이브러리 임포트하기\n",
        "import PublicDataReader as pdr\n",
        "print(pdr.__version__)"
      ],
      "metadata": {
        "colab": {
          "base_uri": "https://localhost:8080/"
        },
        "id": "_k-y7IuvRCK2",
        "outputId": "31212d42-68b7-459d-bd28-88d1687e9974"
      },
      "execution_count": null,
      "outputs": [
        {
          "output_type": "stream",
          "name": "stdout",
          "text": [
            "1.0.5\n"
          ]
        }
      ]
    },
    {
      "cell_type": "code",
      "source": [
        "# 2. 공공 데이터 포털 OpenAPI 서비스 인증키 입력하기\n",
        "serviceKey=\"Fh4TSxo04soUI6YDhN4kth6x9pvuZcJQXAdmOFtY3gIYOQe8P%2BL6kt4Oxx10XTqGJME%2B%2BulqBS6EJUOXlg8WhA%3D%3D\"\n",
        "# 3. 국토교통부 실거래가 정보 조회 OpenAPI 세션 정의하기\n",
        "# debug: True이면 모든 메시지 출력, False이면 오류 메시지만 출력 (기본값: False)\n",
        "ts = pdr.Transaction(serviceKey, debug=True)"
      ],
      "metadata": {
        "colab": {
          "base_uri": "https://localhost:8080/"
        },
        "id": "yzyoHEytRDJX",
        "outputId": "007eeb4b-e9e3-419d-9192-4d35b7fa870b"
      },
      "execution_count": null,
      "outputs": [
        {
          "output_type": "stream",
          "name": "stderr",
          "text": [
            "[INFO] 아파트 매매 조회 서비스 정상 - (00) NORMAL SERVICE.\n",
            "INFO:root:아파트 매매 조회 서비스 정상 - (00) NORMAL SERVICE.\n",
            "[ERROR] 아파트 전월세 조회 서비스 오류 - (99) SERVICE ACCESS DENIED ERROR.\n",
            "ERROR:root:아파트 전월세 조회 서비스 오류 - (99) SERVICE ACCESS DENIED ERROR.\n",
            "[ERROR] 오피스텔 매매 조회 서비스 오류 - (99) SERVICE ACCESS DENIED ERROR.\n",
            "ERROR:root:오피스텔 매매 조회 서비스 오류 - (99) SERVICE ACCESS DENIED ERROR.\n",
            "[ERROR] 오피스텔 전월세 조회 서비스 오류 - (99) SERVICE ACCESS DENIED ERROR.\n",
            "ERROR:root:오피스텔 전월세 조회 서비스 오류 - (99) SERVICE ACCESS DENIED ERROR.\n",
            "[ERROR] 단독다가구 매매 조회 서비스 오류 - (99) SERVICE ACCESS DENIED ERROR.\n",
            "ERROR:root:단독다가구 매매 조회 서비스 오류 - (99) SERVICE ACCESS DENIED ERROR.\n",
            "[ERROR] 단독다가구 전월세 조회 서비스 오류 - (99) SERVICE ACCESS DENIED ERROR.\n",
            "ERROR:root:단독다가구 전월세 조회 서비스 오류 - (99) SERVICE ACCESS DENIED ERROR.\n",
            "[ERROR] 연립다세대 매매 조회 서비스 오류 - (99) SERVICE ACCESS DENIED ERROR.\n",
            "ERROR:root:연립다세대 매매 조회 서비스 오류 - (99) SERVICE ACCESS DENIED ERROR.\n",
            "[ERROR] 연립다세대 전월세 조회 서비스 오류 - (99) SERVICE ACCESS DENIED ERROR.\n",
            "ERROR:root:연립다세대 전월세 조회 서비스 오류 - (99) SERVICE ACCESS DENIED ERROR.\n",
            "[ERROR] 상업업무용 매매 조회 서비스 오류 - (99) SERVICE ACCESS DENIED ERROR.\n",
            "ERROR:root:상업업무용 매매 조회 서비스 오류 - (99) SERVICE ACCESS DENIED ERROR.\n",
            "[ERROR] 토지 매매 조회 서비스 오류 - (99) SERVICE ACCESS DENIED ERROR.\n",
            "ERROR:root:토지 매매 조회 서비스 오류 - (99) SERVICE ACCESS DENIED ERROR.\n",
            "[ERROR] 분양입주권 매매 조회 서비스 오류 - (99) SERVICE ACCESS DENIED ERROR.\n",
            "ERROR:root:분양입주권 매매 조회 서비스 오류 - (99) SERVICE ACCESS DENIED ERROR.\n",
            "[ERROR] 공장창고등 매매 조회 서비스 오류 - (99) SERVICE ACCESS DENIED ERROR.\n",
            "ERROR:root:공장창고등 매매 조회 서비스 오류 - (99) SERVICE ACCESS DENIED ERROR.\n"
          ]
        }
      ]
    },
    {
      "cell_type": "code",
      "source": [
        "# 4. 지역코드(시군구코드) 검색하기\n",
        "sigunguName = \"은평구\"                                  \n",
        "code = pdr.code_bdong()\n",
        "code.loc[(code['시군구명'].str.contains(sigunguName, na=False)) &\n",
        "         (code['읍면동명'].isna())]"
      ],
      "metadata": {
        "colab": {
          "base_uri": "https://localhost:8080/",
          "height": 81
        },
        "id": "2uWhq6jDRELt",
        "outputId": "dd615d87-e19b-4995-857b-653b9ddf0a99"
      },
      "execution_count": null,
      "outputs": [
        {
          "output_type": "execute_result",
          "data": {
            "text/plain": [
              "    시도코드    시도명  시군구코드 시군구명       법정동코드 읍면동명  동리명      생성일자 말소일자\n",
              "573   11  서울특별시  11380  은평구  1138000000  NaN  NaN  19880423  NaN"
            ],
            "text/html": [
              "\n",
              "  <div id=\"df-d0ac3f3d-0f6b-47f1-8f9a-ba3754fdecc8\">\n",
              "    <div class=\"colab-df-container\">\n",
              "      <div>\n",
              "<style scoped>\n",
              "    .dataframe tbody tr th:only-of-type {\n",
              "        vertical-align: middle;\n",
              "    }\n",
              "\n",
              "    .dataframe tbody tr th {\n",
              "        vertical-align: top;\n",
              "    }\n",
              "\n",
              "    .dataframe thead th {\n",
              "        text-align: right;\n",
              "    }\n",
              "</style>\n",
              "<table border=\"1\" class=\"dataframe\">\n",
              "  <thead>\n",
              "    <tr style=\"text-align: right;\">\n",
              "      <th></th>\n",
              "      <th>시도코드</th>\n",
              "      <th>시도명</th>\n",
              "      <th>시군구코드</th>\n",
              "      <th>시군구명</th>\n",
              "      <th>법정동코드</th>\n",
              "      <th>읍면동명</th>\n",
              "      <th>동리명</th>\n",
              "      <th>생성일자</th>\n",
              "      <th>말소일자</th>\n",
              "    </tr>\n",
              "  </thead>\n",
              "  <tbody>\n",
              "    <tr>\n",
              "      <th>573</th>\n",
              "      <td>11</td>\n",
              "      <td>서울특별시</td>\n",
              "      <td>11380</td>\n",
              "      <td>은평구</td>\n",
              "      <td>1138000000</td>\n",
              "      <td>NaN</td>\n",
              "      <td>NaN</td>\n",
              "      <td>19880423</td>\n",
              "      <td>NaN</td>\n",
              "    </tr>\n",
              "  </tbody>\n",
              "</table>\n",
              "</div>\n",
              "      <button class=\"colab-df-convert\" onclick=\"convertToInteractive('df-d0ac3f3d-0f6b-47f1-8f9a-ba3754fdecc8')\"\n",
              "              title=\"Convert this dataframe to an interactive table.\"\n",
              "              style=\"display:none;\">\n",
              "        \n",
              "  <svg xmlns=\"http://www.w3.org/2000/svg\" height=\"24px\"viewBox=\"0 0 24 24\"\n",
              "       width=\"24px\">\n",
              "    <path d=\"M0 0h24v24H0V0z\" fill=\"none\"/>\n",
              "    <path d=\"M18.56 5.44l.94 2.06.94-2.06 2.06-.94-2.06-.94-.94-2.06-.94 2.06-2.06.94zm-11 1L8.5 8.5l.94-2.06 2.06-.94-2.06-.94L8.5 2.5l-.94 2.06-2.06.94zm10 10l.94 2.06.94-2.06 2.06-.94-2.06-.94-.94-2.06-.94 2.06-2.06.94z\"/><path d=\"M17.41 7.96l-1.37-1.37c-.4-.4-.92-.59-1.43-.59-.52 0-1.04.2-1.43.59L10.3 9.45l-7.72 7.72c-.78.78-.78 2.05 0 2.83L4 21.41c.39.39.9.59 1.41.59.51 0 1.02-.2 1.41-.59l7.78-7.78 2.81-2.81c.8-.78.8-2.07 0-2.86zM5.41 20L4 18.59l7.72-7.72 1.47 1.35L5.41 20z\"/>\n",
              "  </svg>\n",
              "      </button>\n",
              "      \n",
              "  <style>\n",
              "    .colab-df-container {\n",
              "      display:flex;\n",
              "      flex-wrap:wrap;\n",
              "      gap: 12px;\n",
              "    }\n",
              "\n",
              "    .colab-df-convert {\n",
              "      background-color: #E8F0FE;\n",
              "      border: none;\n",
              "      border-radius: 50%;\n",
              "      cursor: pointer;\n",
              "      display: none;\n",
              "      fill: #1967D2;\n",
              "      height: 32px;\n",
              "      padding: 0 0 0 0;\n",
              "      width: 32px;\n",
              "    }\n",
              "\n",
              "    .colab-df-convert:hover {\n",
              "      background-color: #E2EBFA;\n",
              "      box-shadow: 0px 1px 2px rgba(60, 64, 67, 0.3), 0px 1px 3px 1px rgba(60, 64, 67, 0.15);\n",
              "      fill: #174EA6;\n",
              "    }\n",
              "\n",
              "    [theme=dark] .colab-df-convert {\n",
              "      background-color: #3B4455;\n",
              "      fill: #D2E3FC;\n",
              "    }\n",
              "\n",
              "    [theme=dark] .colab-df-convert:hover {\n",
              "      background-color: #434B5C;\n",
              "      box-shadow: 0px 1px 3px 1px rgba(0, 0, 0, 0.15);\n",
              "      filter: drop-shadow(0px 1px 2px rgba(0, 0, 0, 0.3));\n",
              "      fill: #FFFFFF;\n",
              "    }\n",
              "  </style>\n",
              "\n",
              "      <script>\n",
              "        const buttonEl =\n",
              "          document.querySelector('#df-d0ac3f3d-0f6b-47f1-8f9a-ba3754fdecc8 button.colab-df-convert');\n",
              "        buttonEl.style.display =\n",
              "          google.colab.kernel.accessAllowed ? 'block' : 'none';\n",
              "\n",
              "        async function convertToInteractive(key) {\n",
              "          const element = document.querySelector('#df-d0ac3f3d-0f6b-47f1-8f9a-ba3754fdecc8');\n",
              "          const dataTable =\n",
              "            await google.colab.kernel.invokeFunction('convertToInteractive',\n",
              "                                                     [key], {});\n",
              "          if (!dataTable) return;\n",
              "\n",
              "          const docLinkHtml = 'Like what you see? Visit the ' +\n",
              "            '<a target=\"_blank\" href=https://colab.research.google.com/notebooks/data_table.ipynb>data table notebook</a>'\n",
              "            + ' to learn more about interactive tables.';\n",
              "          element.innerHTML = '';\n",
              "          dataTable['output_type'] = 'display_data';\n",
              "          await google.colab.output.renderOutput(dataTable, element);\n",
              "          const docLink = document.createElement('div');\n",
              "          docLink.innerHTML = docLinkHtml;\n",
              "          element.appendChild(docLink);\n",
              "        }\n",
              "      </script>\n",
              "    </div>\n",
              "  </div>\n",
              "  "
            ]
          },
          "metadata": {},
          "execution_count": 4
        }
      ]
    },
    {
      "cell_type": "code",
      "source": [
        "# 5. 지역, 기간 별 데이터 프레임 만들기\n",
        "prod=\"아파트\"                                           # 아파트\n",
        "trans=\"매매\"                                            # 매매\n",
        "sigunguCode=\"11380\"                                     # 시군구코드\n",
        "startYearMonth=\"202109\"                                 # 시작기간\n",
        "endYearMonth=\"202209\"                                   # 끝기간\n",
        "\n",
        "df = ts.collect_data(prod, trans, sigunguCode, startYearMonth, endYearMonth)\n",
        "df.head()"
      ],
      "metadata": {
        "colab": {
          "base_uri": "https://localhost:8080/",
          "height": 762
        },
        "id": "LS36Z1WuRG7N",
        "outputId": "c294b5aa-09aa-4cdc-9a75-13797583a1d6"
      },
      "execution_count": null,
      "outputs": [
        {
          "output_type": "stream",
          "name": "stderr",
          "text": [
            "[INFO] 아파트 매매 202109 조회 시작\n",
            "INFO:root:아파트 매매 202109 조회 시작\n",
            "[INFO] 아파트 매매 202110 조회 시작\n",
            "INFO:root:아파트 매매 202110 조회 시작\n",
            "[INFO] 아파트 매매 202111 조회 시작\n",
            "INFO:root:아파트 매매 202111 조회 시작\n",
            "[INFO] 아파트 매매 202112 조회 시작\n",
            "INFO:root:아파트 매매 202112 조회 시작\n",
            "[INFO] 아파트 매매 202201 조회 시작\n",
            "INFO:root:아파트 매매 202201 조회 시작\n",
            "[INFO] 아파트 매매 202202 조회 시작\n",
            "INFO:root:아파트 매매 202202 조회 시작\n",
            "[INFO] 아파트 매매 202203 조회 시작\n",
            "INFO:root:아파트 매매 202203 조회 시작\n",
            "[INFO] 아파트 매매 202204 조회 시작\n",
            "INFO:root:아파트 매매 202204 조회 시작\n",
            "[INFO] 아파트 매매 202205 조회 시작\n",
            "INFO:root:아파트 매매 202205 조회 시작\n",
            "[INFO] 아파트 매매 202206 조회 시작\n",
            "INFO:root:아파트 매매 202206 조회 시작\n",
            "[INFO] 아파트 매매 202207 조회 시작\n",
            "INFO:root:아파트 매매 202207 조회 시작\n",
            "[INFO] 아파트 매매 202208 조회 시작\n",
            "INFO:root:아파트 매매 202208 조회 시작\n",
            "[INFO] 아파트 매매 202209 조회 시작\n",
            "INFO:root:아파트 매매 202209 조회 시작\n"
          ]
        },
        {
          "output_type": "execute_result",
          "data": {
            "text/plain": [
              "    지역코드    도로명  법정동     지번             아파트  건축년도   층      전용면적     년  월  ...  \\\n",
              "0  11380  은평터널로  수색동  415-1  대림한숲(DMC이편한세상)  2003   3   59.8950  2021  9  ...   \n",
              "1  11380  은평터널로  수색동  416-1           진흥엣세벨  2003  10   57.5033  2021  9  ...   \n",
              "2  11380  증산로1길  수색동    413              청구  2000  14   59.9700  2021  9  ...   \n",
              "3  11380  은평터널로  수색동  415-1  대림한숲(DMC이편한세상)  2003  14  114.1800  2021  9  ...   \n",
              "4  11380  은평터널로  수색동  415-1  대림한숲(DMC이편한세상)  2003  14  114.1800  2021  9  ...   \n",
              "\n",
              "   법정동본번코드  법정동부번코드 법정동시군구코드 법정동읍면동코드 법정동지번코드       일련번호 거래유형 중개사소재지 해제사유발생일  \\\n",
              "0     0415     0001    11380    10100       1  11380-100                       \n",
              "1     0416     0001    11380    10100       1  11380-173                       \n",
              "2     0413     0000    11380    10100       1  11380-102                       \n",
              "3     0415     0001    11380    10100       1  11380-100                       \n",
              "4     0415     0001    11380    10100       1  11380-100                       \n",
              "\n",
              "  해제여부  \n",
              "0       \n",
              "1       \n",
              "2       \n",
              "3       \n",
              "4       \n",
              "\n",
              "[5 rows x 28 columns]"
            ],
            "text/html": [
              "\n",
              "  <div id=\"df-766d9a86-28ff-4153-83fb-154cf56d5fda\">\n",
              "    <div class=\"colab-df-container\">\n",
              "      <div>\n",
              "<style scoped>\n",
              "    .dataframe tbody tr th:only-of-type {\n",
              "        vertical-align: middle;\n",
              "    }\n",
              "\n",
              "    .dataframe tbody tr th {\n",
              "        vertical-align: top;\n",
              "    }\n",
              "\n",
              "    .dataframe thead th {\n",
              "        text-align: right;\n",
              "    }\n",
              "</style>\n",
              "<table border=\"1\" class=\"dataframe\">\n",
              "  <thead>\n",
              "    <tr style=\"text-align: right;\">\n",
              "      <th></th>\n",
              "      <th>지역코드</th>\n",
              "      <th>도로명</th>\n",
              "      <th>법정동</th>\n",
              "      <th>지번</th>\n",
              "      <th>아파트</th>\n",
              "      <th>건축년도</th>\n",
              "      <th>층</th>\n",
              "      <th>전용면적</th>\n",
              "      <th>년</th>\n",
              "      <th>월</th>\n",
              "      <th>...</th>\n",
              "      <th>법정동본번코드</th>\n",
              "      <th>법정동부번코드</th>\n",
              "      <th>법정동시군구코드</th>\n",
              "      <th>법정동읍면동코드</th>\n",
              "      <th>법정동지번코드</th>\n",
              "      <th>일련번호</th>\n",
              "      <th>거래유형</th>\n",
              "      <th>중개사소재지</th>\n",
              "      <th>해제사유발생일</th>\n",
              "      <th>해제여부</th>\n",
              "    </tr>\n",
              "  </thead>\n",
              "  <tbody>\n",
              "    <tr>\n",
              "      <th>0</th>\n",
              "      <td>11380</td>\n",
              "      <td>은평터널로</td>\n",
              "      <td>수색동</td>\n",
              "      <td>415-1</td>\n",
              "      <td>대림한숲(DMC이편한세상)</td>\n",
              "      <td>2003</td>\n",
              "      <td>3</td>\n",
              "      <td>59.8950</td>\n",
              "      <td>2021</td>\n",
              "      <td>9</td>\n",
              "      <td>...</td>\n",
              "      <td>0415</td>\n",
              "      <td>0001</td>\n",
              "      <td>11380</td>\n",
              "      <td>10100</td>\n",
              "      <td>1</td>\n",
              "      <td>11380-100</td>\n",
              "      <td></td>\n",
              "      <td></td>\n",
              "      <td></td>\n",
              "      <td></td>\n",
              "    </tr>\n",
              "    <tr>\n",
              "      <th>1</th>\n",
              "      <td>11380</td>\n",
              "      <td>은평터널로</td>\n",
              "      <td>수색동</td>\n",
              "      <td>416-1</td>\n",
              "      <td>진흥엣세벨</td>\n",
              "      <td>2003</td>\n",
              "      <td>10</td>\n",
              "      <td>57.5033</td>\n",
              "      <td>2021</td>\n",
              "      <td>9</td>\n",
              "      <td>...</td>\n",
              "      <td>0416</td>\n",
              "      <td>0001</td>\n",
              "      <td>11380</td>\n",
              "      <td>10100</td>\n",
              "      <td>1</td>\n",
              "      <td>11380-173</td>\n",
              "      <td></td>\n",
              "      <td></td>\n",
              "      <td></td>\n",
              "      <td></td>\n",
              "    </tr>\n",
              "    <tr>\n",
              "      <th>2</th>\n",
              "      <td>11380</td>\n",
              "      <td>증산로1길</td>\n",
              "      <td>수색동</td>\n",
              "      <td>413</td>\n",
              "      <td>청구</td>\n",
              "      <td>2000</td>\n",
              "      <td>14</td>\n",
              "      <td>59.9700</td>\n",
              "      <td>2021</td>\n",
              "      <td>9</td>\n",
              "      <td>...</td>\n",
              "      <td>0413</td>\n",
              "      <td>0000</td>\n",
              "      <td>11380</td>\n",
              "      <td>10100</td>\n",
              "      <td>1</td>\n",
              "      <td>11380-102</td>\n",
              "      <td></td>\n",
              "      <td></td>\n",
              "      <td></td>\n",
              "      <td></td>\n",
              "    </tr>\n",
              "    <tr>\n",
              "      <th>3</th>\n",
              "      <td>11380</td>\n",
              "      <td>은평터널로</td>\n",
              "      <td>수색동</td>\n",
              "      <td>415-1</td>\n",
              "      <td>대림한숲(DMC이편한세상)</td>\n",
              "      <td>2003</td>\n",
              "      <td>14</td>\n",
              "      <td>114.1800</td>\n",
              "      <td>2021</td>\n",
              "      <td>9</td>\n",
              "      <td>...</td>\n",
              "      <td>0415</td>\n",
              "      <td>0001</td>\n",
              "      <td>11380</td>\n",
              "      <td>10100</td>\n",
              "      <td>1</td>\n",
              "      <td>11380-100</td>\n",
              "      <td></td>\n",
              "      <td></td>\n",
              "      <td></td>\n",
              "      <td></td>\n",
              "    </tr>\n",
              "    <tr>\n",
              "      <th>4</th>\n",
              "      <td>11380</td>\n",
              "      <td>은평터널로</td>\n",
              "      <td>수색동</td>\n",
              "      <td>415-1</td>\n",
              "      <td>대림한숲(DMC이편한세상)</td>\n",
              "      <td>2003</td>\n",
              "      <td>14</td>\n",
              "      <td>114.1800</td>\n",
              "      <td>2021</td>\n",
              "      <td>9</td>\n",
              "      <td>...</td>\n",
              "      <td>0415</td>\n",
              "      <td>0001</td>\n",
              "      <td>11380</td>\n",
              "      <td>10100</td>\n",
              "      <td>1</td>\n",
              "      <td>11380-100</td>\n",
              "      <td></td>\n",
              "      <td></td>\n",
              "      <td></td>\n",
              "      <td></td>\n",
              "    </tr>\n",
              "  </tbody>\n",
              "</table>\n",
              "<p>5 rows × 28 columns</p>\n",
              "</div>\n",
              "      <button class=\"colab-df-convert\" onclick=\"convertToInteractive('df-766d9a86-28ff-4153-83fb-154cf56d5fda')\"\n",
              "              title=\"Convert this dataframe to an interactive table.\"\n",
              "              style=\"display:none;\">\n",
              "        \n",
              "  <svg xmlns=\"http://www.w3.org/2000/svg\" height=\"24px\"viewBox=\"0 0 24 24\"\n",
              "       width=\"24px\">\n",
              "    <path d=\"M0 0h24v24H0V0z\" fill=\"none\"/>\n",
              "    <path d=\"M18.56 5.44l.94 2.06.94-2.06 2.06-.94-2.06-.94-.94-2.06-.94 2.06-2.06.94zm-11 1L8.5 8.5l.94-2.06 2.06-.94-2.06-.94L8.5 2.5l-.94 2.06-2.06.94zm10 10l.94 2.06.94-2.06 2.06-.94-2.06-.94-.94-2.06-.94 2.06-2.06.94z\"/><path d=\"M17.41 7.96l-1.37-1.37c-.4-.4-.92-.59-1.43-.59-.52 0-1.04.2-1.43.59L10.3 9.45l-7.72 7.72c-.78.78-.78 2.05 0 2.83L4 21.41c.39.39.9.59 1.41.59.51 0 1.02-.2 1.41-.59l7.78-7.78 2.81-2.81c.8-.78.8-2.07 0-2.86zM5.41 20L4 18.59l7.72-7.72 1.47 1.35L5.41 20z\"/>\n",
              "  </svg>\n",
              "      </button>\n",
              "      \n",
              "  <style>\n",
              "    .colab-df-container {\n",
              "      display:flex;\n",
              "      flex-wrap:wrap;\n",
              "      gap: 12px;\n",
              "    }\n",
              "\n",
              "    .colab-df-convert {\n",
              "      background-color: #E8F0FE;\n",
              "      border: none;\n",
              "      border-radius: 50%;\n",
              "      cursor: pointer;\n",
              "      display: none;\n",
              "      fill: #1967D2;\n",
              "      height: 32px;\n",
              "      padding: 0 0 0 0;\n",
              "      width: 32px;\n",
              "    }\n",
              "\n",
              "    .colab-df-convert:hover {\n",
              "      background-color: #E2EBFA;\n",
              "      box-shadow: 0px 1px 2px rgba(60, 64, 67, 0.3), 0px 1px 3px 1px rgba(60, 64, 67, 0.15);\n",
              "      fill: #174EA6;\n",
              "    }\n",
              "\n",
              "    [theme=dark] .colab-df-convert {\n",
              "      background-color: #3B4455;\n",
              "      fill: #D2E3FC;\n",
              "    }\n",
              "\n",
              "    [theme=dark] .colab-df-convert:hover {\n",
              "      background-color: #434B5C;\n",
              "      box-shadow: 0px 1px 3px 1px rgba(0, 0, 0, 0.15);\n",
              "      filter: drop-shadow(0px 1px 2px rgba(0, 0, 0, 0.3));\n",
              "      fill: #FFFFFF;\n",
              "    }\n",
              "  </style>\n",
              "\n",
              "      <script>\n",
              "        const buttonEl =\n",
              "          document.querySelector('#df-766d9a86-28ff-4153-83fb-154cf56d5fda button.colab-df-convert');\n",
              "        buttonEl.style.display =\n",
              "          google.colab.kernel.accessAllowed ? 'block' : 'none';\n",
              "\n",
              "        async function convertToInteractive(key) {\n",
              "          const element = document.querySelector('#df-766d9a86-28ff-4153-83fb-154cf56d5fda');\n",
              "          const dataTable =\n",
              "            await google.colab.kernel.invokeFunction('convertToInteractive',\n",
              "                                                     [key], {});\n",
              "          if (!dataTable) return;\n",
              "\n",
              "          const docLinkHtml = 'Like what you see? Visit the ' +\n",
              "            '<a target=\"_blank\" href=https://colab.research.google.com/notebooks/data_table.ipynb>data table notebook</a>'\n",
              "            + ' to learn more about interactive tables.';\n",
              "          element.innerHTML = '';\n",
              "          dataTable['output_type'] = 'display_data';\n",
              "          await google.colab.output.renderOutput(dataTable, element);\n",
              "          const docLink = document.createElement('div');\n",
              "          docLink.innerHTML = docLinkHtml;\n",
              "          element.appendChild(docLink);\n",
              "        }\n",
              "      </script>\n",
              "    </div>\n",
              "  </div>\n",
              "  "
            ]
          },
          "metadata": {},
          "execution_count": 5
        }
      ]
    },
    {
      "cell_type": "code",
      "source": [
        "#6. 파일로 저장\n",
        "df.to_excel('은평구 아파트 매매현황.xlsx')"
      ],
      "metadata": {
        "id": "CNgBP5q7RI30"
      },
      "execution_count": null,
      "outputs": []
    },
    {
      "cell_type": "code",
      "source": [
        "!pip show plotnine\n",
        "!pip show missingno\n",
        "import warnings\n",
        "warnings.filterwarnings('ignore')\n",
        "import pandas as pd\n",
        "import numpy as np\n",
        "import re\n",
        "from plotnine import *\n",
        "import matplotlib as mpl \n",
        "import matplotlib.pyplot as plt \n",
        "import matplotlib.font_manager as fm  \n"
      ],
      "metadata": {
        "colab": {
          "base_uri": "https://localhost:8080/"
        },
        "id": "R7PkYO6yReZ_",
        "outputId": "dd041f0d-4c44-4ae9-c63a-a9d903efe462"
      },
      "execution_count": null,
      "outputs": [
        {
          "output_type": "stream",
          "name": "stdout",
          "text": [
            "Name: plotnine\n",
            "Version: 0.8.0\n",
            "Summary: A grammar of graphics for python\n",
            "Home-page: https://github.com/has2k1/plotnine\n",
            "Author: None\n",
            "Author-email: None\n",
            "License: GPL-2\n",
            "Location: /usr/local/lib/python3.8/dist-packages\n",
            "Requires: statsmodels, pandas, patsy, matplotlib, mizani, scipy, descartes, numpy\n",
            "Required-by: \n",
            "Name: missingno\n",
            "Version: 0.5.1\n",
            "Summary: Missing data visualization module for Python.\n",
            "Home-page: https://github.com/ResidentMario/missingno\n",
            "Author: Aleksey Bilogur\n",
            "Author-email: aleksey.bilogur@gmail.com\n",
            "License: MIT License\n",
            "Location: /usr/local/lib/python3.8/dist-packages\n",
            "Requires: seaborn, numpy, scipy, matplotlib\n",
            "Required-by: \n"
          ]
        }
      ]
    },
    {
      "cell_type": "code",
      "source": [
        "pre_sale = pd.read_excel('/content/은평구 아파트 매매현황.xlsx')\n",
        "pre_sale.describe\n",
        "\n",
        "pre_sale.head()\n",
        "pre_sale.tail()"
      ],
      "metadata": {
        "colab": {
          "base_uri": "https://localhost:8080/",
          "height": 384
        },
        "id": "tZZnDtSuRxsg",
        "outputId": "9d8441dd-2bf8-4582-b65c-17477f6a8143"
      },
      "execution_count": null,
      "outputs": [
        {
          "output_type": "execute_result",
          "data": {
            "text/plain": [
              "     Unnamed: 0   지역코드     도로명  법정동   지번                    아파트    건축년도   층  \\\n",
              "848         848  11380     통일로  진관동   62               은평스카이뷰자이  2019.0  28   \n",
              "849         849  11380    진관2로  진관동   88      은평뉴타운우물골(두산위브8단지)  2009.0   6   \n",
              "850         850  11380     통일로  진관동   62               은평스카이뷰자이  2019.0  15   \n",
              "851         851  11380  연서로48길  진관동  154  은평뉴타운 제각말 푸르지오(5-1단지)  2010.0   8   \n",
              "852         852  11380     통일로  진관동   62               은평스카이뷰자이  2019.0  11   \n",
              "\n",
              "         전용면적     년  ...  법정동본번코드  법정동부번코드  법정동시군구코드  법정동읍면동코드  법정동지번코드  \\\n",
              "848   84.3363  2022  ...       62        0     11380     11400        1   \n",
              "849   84.5100  2022  ...       88        0     11380     11400        1   \n",
              "850   84.7488  2022  ...       62        0     11380     11400        1   \n",
              "851  101.8300  2022  ...      154        0     11380     11400        1   \n",
              "852   84.3363  2022  ...       62        0     11380     11400        1   \n",
              "\n",
              "            일련번호  거래유형  중개사소재지  해제사유발생일  해제여부  \n",
              "848  11380-10938  중개거래  서울 은평구      NaN   NaN  \n",
              "849   11380-8506  중개거래  서울 은평구      NaN   NaN  \n",
              "850  11380-10938  중개거래  서울 은평구      NaN   NaN  \n",
              "851   11380-8668  중개거래  서울 은평구      NaN   NaN  \n",
              "852  11380-10938  중개거래  서울 은평구      NaN   NaN  \n",
              "\n",
              "[5 rows x 29 columns]"
            ],
            "text/html": [
              "\n",
              "  <div id=\"df-8c9e290e-7449-442e-ba43-7bc8ea360676\">\n",
              "    <div class=\"colab-df-container\">\n",
              "      <div>\n",
              "<style scoped>\n",
              "    .dataframe tbody tr th:only-of-type {\n",
              "        vertical-align: middle;\n",
              "    }\n",
              "\n",
              "    .dataframe tbody tr th {\n",
              "        vertical-align: top;\n",
              "    }\n",
              "\n",
              "    .dataframe thead th {\n",
              "        text-align: right;\n",
              "    }\n",
              "</style>\n",
              "<table border=\"1\" class=\"dataframe\">\n",
              "  <thead>\n",
              "    <tr style=\"text-align: right;\">\n",
              "      <th></th>\n",
              "      <th>Unnamed: 0</th>\n",
              "      <th>지역코드</th>\n",
              "      <th>도로명</th>\n",
              "      <th>법정동</th>\n",
              "      <th>지번</th>\n",
              "      <th>아파트</th>\n",
              "      <th>건축년도</th>\n",
              "      <th>층</th>\n",
              "      <th>전용면적</th>\n",
              "      <th>년</th>\n",
              "      <th>...</th>\n",
              "      <th>법정동본번코드</th>\n",
              "      <th>법정동부번코드</th>\n",
              "      <th>법정동시군구코드</th>\n",
              "      <th>법정동읍면동코드</th>\n",
              "      <th>법정동지번코드</th>\n",
              "      <th>일련번호</th>\n",
              "      <th>거래유형</th>\n",
              "      <th>중개사소재지</th>\n",
              "      <th>해제사유발생일</th>\n",
              "      <th>해제여부</th>\n",
              "    </tr>\n",
              "  </thead>\n",
              "  <tbody>\n",
              "    <tr>\n",
              "      <th>848</th>\n",
              "      <td>848</td>\n",
              "      <td>11380</td>\n",
              "      <td>통일로</td>\n",
              "      <td>진관동</td>\n",
              "      <td>62</td>\n",
              "      <td>은평스카이뷰자이</td>\n",
              "      <td>2019.0</td>\n",
              "      <td>28</td>\n",
              "      <td>84.3363</td>\n",
              "      <td>2022</td>\n",
              "      <td>...</td>\n",
              "      <td>62</td>\n",
              "      <td>0</td>\n",
              "      <td>11380</td>\n",
              "      <td>11400</td>\n",
              "      <td>1</td>\n",
              "      <td>11380-10938</td>\n",
              "      <td>중개거래</td>\n",
              "      <td>서울 은평구</td>\n",
              "      <td>NaN</td>\n",
              "      <td>NaN</td>\n",
              "    </tr>\n",
              "    <tr>\n",
              "      <th>849</th>\n",
              "      <td>849</td>\n",
              "      <td>11380</td>\n",
              "      <td>진관2로</td>\n",
              "      <td>진관동</td>\n",
              "      <td>88</td>\n",
              "      <td>은평뉴타운우물골(두산위브8단지)</td>\n",
              "      <td>2009.0</td>\n",
              "      <td>6</td>\n",
              "      <td>84.5100</td>\n",
              "      <td>2022</td>\n",
              "      <td>...</td>\n",
              "      <td>88</td>\n",
              "      <td>0</td>\n",
              "      <td>11380</td>\n",
              "      <td>11400</td>\n",
              "      <td>1</td>\n",
              "      <td>11380-8506</td>\n",
              "      <td>중개거래</td>\n",
              "      <td>서울 은평구</td>\n",
              "      <td>NaN</td>\n",
              "      <td>NaN</td>\n",
              "    </tr>\n",
              "    <tr>\n",
              "      <th>850</th>\n",
              "      <td>850</td>\n",
              "      <td>11380</td>\n",
              "      <td>통일로</td>\n",
              "      <td>진관동</td>\n",
              "      <td>62</td>\n",
              "      <td>은평스카이뷰자이</td>\n",
              "      <td>2019.0</td>\n",
              "      <td>15</td>\n",
              "      <td>84.7488</td>\n",
              "      <td>2022</td>\n",
              "      <td>...</td>\n",
              "      <td>62</td>\n",
              "      <td>0</td>\n",
              "      <td>11380</td>\n",
              "      <td>11400</td>\n",
              "      <td>1</td>\n",
              "      <td>11380-10938</td>\n",
              "      <td>중개거래</td>\n",
              "      <td>서울 은평구</td>\n",
              "      <td>NaN</td>\n",
              "      <td>NaN</td>\n",
              "    </tr>\n",
              "    <tr>\n",
              "      <th>851</th>\n",
              "      <td>851</td>\n",
              "      <td>11380</td>\n",
              "      <td>연서로48길</td>\n",
              "      <td>진관동</td>\n",
              "      <td>154</td>\n",
              "      <td>은평뉴타운 제각말 푸르지오(5-1단지)</td>\n",
              "      <td>2010.0</td>\n",
              "      <td>8</td>\n",
              "      <td>101.8300</td>\n",
              "      <td>2022</td>\n",
              "      <td>...</td>\n",
              "      <td>154</td>\n",
              "      <td>0</td>\n",
              "      <td>11380</td>\n",
              "      <td>11400</td>\n",
              "      <td>1</td>\n",
              "      <td>11380-8668</td>\n",
              "      <td>중개거래</td>\n",
              "      <td>서울 은평구</td>\n",
              "      <td>NaN</td>\n",
              "      <td>NaN</td>\n",
              "    </tr>\n",
              "    <tr>\n",
              "      <th>852</th>\n",
              "      <td>852</td>\n",
              "      <td>11380</td>\n",
              "      <td>통일로</td>\n",
              "      <td>진관동</td>\n",
              "      <td>62</td>\n",
              "      <td>은평스카이뷰자이</td>\n",
              "      <td>2019.0</td>\n",
              "      <td>11</td>\n",
              "      <td>84.3363</td>\n",
              "      <td>2022</td>\n",
              "      <td>...</td>\n",
              "      <td>62</td>\n",
              "      <td>0</td>\n",
              "      <td>11380</td>\n",
              "      <td>11400</td>\n",
              "      <td>1</td>\n",
              "      <td>11380-10938</td>\n",
              "      <td>중개거래</td>\n",
              "      <td>서울 은평구</td>\n",
              "      <td>NaN</td>\n",
              "      <td>NaN</td>\n",
              "    </tr>\n",
              "  </tbody>\n",
              "</table>\n",
              "<p>5 rows × 29 columns</p>\n",
              "</div>\n",
              "      <button class=\"colab-df-convert\" onclick=\"convertToInteractive('df-8c9e290e-7449-442e-ba43-7bc8ea360676')\"\n",
              "              title=\"Convert this dataframe to an interactive table.\"\n",
              "              style=\"display:none;\">\n",
              "        \n",
              "  <svg xmlns=\"http://www.w3.org/2000/svg\" height=\"24px\"viewBox=\"0 0 24 24\"\n",
              "       width=\"24px\">\n",
              "    <path d=\"M0 0h24v24H0V0z\" fill=\"none\"/>\n",
              "    <path d=\"M18.56 5.44l.94 2.06.94-2.06 2.06-.94-2.06-.94-.94-2.06-.94 2.06-2.06.94zm-11 1L8.5 8.5l.94-2.06 2.06-.94-2.06-.94L8.5 2.5l-.94 2.06-2.06.94zm10 10l.94 2.06.94-2.06 2.06-.94-2.06-.94-.94-2.06-.94 2.06-2.06.94z\"/><path d=\"M17.41 7.96l-1.37-1.37c-.4-.4-.92-.59-1.43-.59-.52 0-1.04.2-1.43.59L10.3 9.45l-7.72 7.72c-.78.78-.78 2.05 0 2.83L4 21.41c.39.39.9.59 1.41.59.51 0 1.02-.2 1.41-.59l7.78-7.78 2.81-2.81c.8-.78.8-2.07 0-2.86zM5.41 20L4 18.59l7.72-7.72 1.47 1.35L5.41 20z\"/>\n",
              "  </svg>\n",
              "      </button>\n",
              "      \n",
              "  <style>\n",
              "    .colab-df-container {\n",
              "      display:flex;\n",
              "      flex-wrap:wrap;\n",
              "      gap: 12px;\n",
              "    }\n",
              "\n",
              "    .colab-df-convert {\n",
              "      background-color: #E8F0FE;\n",
              "      border: none;\n",
              "      border-radius: 50%;\n",
              "      cursor: pointer;\n",
              "      display: none;\n",
              "      fill: #1967D2;\n",
              "      height: 32px;\n",
              "      padding: 0 0 0 0;\n",
              "      width: 32px;\n",
              "    }\n",
              "\n",
              "    .colab-df-convert:hover {\n",
              "      background-color: #E2EBFA;\n",
              "      box-shadow: 0px 1px 2px rgba(60, 64, 67, 0.3), 0px 1px 3px 1px rgba(60, 64, 67, 0.15);\n",
              "      fill: #174EA6;\n",
              "    }\n",
              "\n",
              "    [theme=dark] .colab-df-convert {\n",
              "      background-color: #3B4455;\n",
              "      fill: #D2E3FC;\n",
              "    }\n",
              "\n",
              "    [theme=dark] .colab-df-convert:hover {\n",
              "      background-color: #434B5C;\n",
              "      box-shadow: 0px 1px 3px 1px rgba(0, 0, 0, 0.15);\n",
              "      filter: drop-shadow(0px 1px 2px rgba(0, 0, 0, 0.3));\n",
              "      fill: #FFFFFF;\n",
              "    }\n",
              "  </style>\n",
              "\n",
              "      <script>\n",
              "        const buttonEl =\n",
              "          document.querySelector('#df-8c9e290e-7449-442e-ba43-7bc8ea360676 button.colab-df-convert');\n",
              "        buttonEl.style.display =\n",
              "          google.colab.kernel.accessAllowed ? 'block' : 'none';\n",
              "\n",
              "        async function convertToInteractive(key) {\n",
              "          const element = document.querySelector('#df-8c9e290e-7449-442e-ba43-7bc8ea360676');\n",
              "          const dataTable =\n",
              "            await google.colab.kernel.invokeFunction('convertToInteractive',\n",
              "                                                     [key], {});\n",
              "          if (!dataTable) return;\n",
              "\n",
              "          const docLinkHtml = 'Like what you see? Visit the ' +\n",
              "            '<a target=\"_blank\" href=https://colab.research.google.com/notebooks/data_table.ipynb>data table notebook</a>'\n",
              "            + ' to learn more about interactive tables.';\n",
              "          element.innerHTML = '';\n",
              "          dataTable['output_type'] = 'display_data';\n",
              "          await google.colab.output.renderOutput(dataTable, element);\n",
              "          const docLink = document.createElement('div');\n",
              "          docLink.innerHTML = docLinkHtml;\n",
              "          element.appendChild(docLink);\n",
              "        }\n",
              "      </script>\n",
              "    </div>\n",
              "  </div>\n",
              "  "
            ]
          },
          "metadata": {},
          "execution_count": 8
        }
      ]
    },
    {
      "cell_type": "code",
      "source": [
        "# 거래매물이 없을시\n",
        "pre_sale = pre_sale.loc[pre_sale['법정동']=='응암동']\n",
        "(ggplot(pre_sale)\n",
        " + aes(x='아파트', y='거래금액')\n",
        " + ggtitle('응암동 아파트 매매 평균거래금액')\n",
        " + geom_boxplot()\n",
        " + theme(text=element_text(family='NanumBarunGothic'))\n",
        " + theme(text=element_text(hjust=0.5, size=5))\n",
        " \n",
        ")\n",
        "\n"
      ],
      "metadata": {
        "colab": {
          "base_uri": "https://localhost:8080/",
          "height": 470
        },
        "id": "2b3IjBXoZei6",
        "outputId": "fd1bc967-9384-4157-e7c0-e5185922ac8f"
      },
      "execution_count": null,
      "outputs": [
        {
          "output_type": "display_data",
          "data": {
            "text/plain": [
              "<Figure size 640x480 with 1 Axes>"
            ],
            "image/png": "[encoded data removed]"
          },
          "metadata": {}
        },
        {
          "output_type": "execute_result",
          "data": {
            "text/plain": [
              "<ggplot: (8788852575729)>"
            ]
          },
          "metadata": {},
          "execution_count": 9
        }
      ]
    },
    {
      "cell_type": "code",
      "source": [
        "# 거래매물이 많을시\n",
        "pre_sale = pre_sale.loc[pre_sale['법정동']=='응암동']\n",
        "(ggplot(pre_sale)\n",
        " + aes(x='아파트', y='거래금액')\n",
        " + ggtitle('응암동 아파트 매매 평균거래금액')\n",
        " + geom_boxplot()\n",
        " + theme(text=element_text(family='NanumBarunGothic'),figure_size=(100, 10))\n",
        " + theme(text=element_text(hjust=0.5, size=10))\n",
        "\n",
        "\n",
        ")\n"
      ],
      "metadata": {
        "colab": {
          "base_uri": "https://localhost:8080/",
          "height": 909
        },
        "id": "MOKbBqUjsbbH",
        "outputId": "4c05ed83-12ff-4bc8-a6c0-bfc474567bd8"
      },
      "execution_count": null,
      "outputs": [
        {
          "output_type": "display_data",
          "data": {
            "text/plain": [
              "<Figure size 10000x1000 with 1 Axes>"
            ],
            "image/png": "[encoded data removed]"
          },
          "metadata": {}
        },
        {
          "output_type": "execute_result",
          "data": {
            "text/plain": [
              "<ggplot: (8788847330579)>"
            ]
          },
          "metadata": {},
          "execution_count": 18
        }
      ]
    },
    {
      "cell_type": "markdown",
      "source": [],
      "metadata": {
        "id": "snkLHePbnbfH"
      }
    },
    {
      "cell_type": "code",
      "source": [
        "pre_sale = pre_sale.loc[pre_sale['법정동']=='응암동']\n",
        "(ggplot(pre_sale,aes(x='아파트'))\n",
        " + geom_bar(y=\"count\")\n",
        " + ggtitle('응암동 아파트 매매 거래횟수')\n",
        "\n",
        " + theme(text=element_text(family='NanumBarunGothic'))\n",
        " + theme(text=element_text(hjust=0.5, size=5))\n",
        ")"
      ],
      "metadata": {
        "colab": {
          "base_uri": "https://localhost:8080/",
          "height": 469
        },
        "id": "cOoiPkjtRbJx",
        "outputId": "64df1248-6016-48ab-ea5d-239bc23bded5"
      },
      "execution_count": null,
      "outputs": [
        {
          "output_type": "display_data",
          "data": {
            "text/plain": [
              "<Figure size 640x480 with 1 Axes>"
            ],
            "image/png": "[encoded data removed]"
          },
          "metadata": {}
        },
        {
          "output_type": "execute_result",
          "data": {
            "text/plain": [
              "<ggplot: (8756017967860)>"
            ]
          },
          "metadata": {},
          "execution_count": 13
        }
      ]
    },
    {
      "cell_type": "code",
      "source": [
        "pre_sale = pre_sale.loc[pre_sale['법정동']=='응암동']\n",
        "(ggplot(pre_sale)\n",
        " + aes(x='아파트', y='거래금액')\n",
        " + ggtitle('응암동 아파트 매매 거래금액(합)')\n",
        " + geom_col()\n",
        " + theme(text=element_text(family='NanumBarunGothic'))\n",
        " + theme(text=element_text(hjust=0.5, size=5))\n",
        ")"
      ],
      "metadata": {
        "colab": {
          "base_uri": "https://localhost:8080/",
          "height": 469
        },
        "id": "bUHXBgp9S2Z7",
        "outputId": "3fba5ed3-bee1-4db5-92ed-3b640d11c205"
      },
      "execution_count": null,
      "outputs": [
        {
          "output_type": "display_data",
          "data": {
            "text/plain": [
              "<Figure size 640x480 with 1 Axes>"
            ],
            "image/png": "[encoded data removed]"
          },
          "metadata": {}
        },
        {
          "output_type": "execute_result",
          "data": {
            "text/plain": [
              "<ggplot: (8756017928244)>"
            ]
          },
          "metadata": {},
          "execution_count": 14
        }
      ]
    }
  ]
}